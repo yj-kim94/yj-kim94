{
 "metadata": {
  "language_info": {
   "codemirror_mode": {
    "name": "ipython",
    "version": 3
   },
   "file_extension": ".py",
   "mimetype": "text/x-python",
   "name": "python",
   "nbconvert_exporter": "python",
   "pygments_lexer": "ipython3",
   "version": "3.9.1"
  },
  "orig_nbformat": 2,
  "kernelspec": {
   "name": "python391jvsc74a57bd0ee5cc6fef2d70a7e71ee3826687cbd150f18158e0b1eef11d4f4f92bb920e304",
   "display_name": "Python 3.9.1 64-bit"
  },
  "metadata": {
   "interpreter": {
    "hash": "ee5cc6fef2d70a7e71ee3826687cbd150f18158e0b1eef11d4f4f92bb920e304"
   }
  }
 },
 "nbformat": 4,
 "nbformat_minor": 2,
 "cells": [
  {
   "cell_type": "code",
   "execution_count": 63,
   "metadata": {},
   "outputs": [],
   "source": [
    "'''\n",
    "#여러 개의 입력값을 받는 함수 만들기\n",
    "'''\n",
    "#입력하는 모든 값을 더해주는 함수\n",
    "#모든 값은 튜플로 변환된다.\n",
    "def add(*args):\n",
    "    result=0\n",
    "    for i in args:\n",
    "        result=result+i\n",
    "    return result\n"
   ]
  },
  {
   "cell_type": "code",
   "execution_count": 70,
   "metadata": {},
   "outputs": [
    {
     "output_type": "stream",
     "name": "stdout",
     "text": [
      "24\n144\n"
     ]
    }
   ],
   "source": [
    "'''\n",
    "사용할 기능을 선택해서 쓰는 함수 만들기\n",
    "'''\n",
    "#입력한 인자들을 모두 더하거나 곱하는 함수\n",
    "def add_mul(choice,*args):\n",
    "    if choice==\"add\":\n",
    "        result=0\n",
    "        for i in args:\n",
    "            result=result+i\n",
    "        return result\n",
    "    elif choice==\"mul\":\n",
    "        result=1\n",
    "        for i in args:\n",
    "            result=result*i\n",
    "        return result\n",
    "\n",
    "result=add_mul(\"add\",12,12)\n",
    "print(result)\n",
    "result=add_mul(\"mul\",12,12)\n",
    "print(result)"
   ]
  },
  {
   "cell_type": "code",
   "execution_count": 76,
   "metadata": {},
   "outputs": [
    {
     "output_type": "stream",
     "name": "stdout",
     "text": [
      "5\n6\n"
     ]
    }
   ],
   "source": [
    "def add_and_mul(a,b):\n",
    "    return a+b, a*b\n",
    "\n",
    "result1,result2=add_and_mul(2,3)\n",
    "\n",
    "print(result1)\n",
    "print(result2)\n"
   ]
  },
  {
   "cell_type": "code",
   "execution_count": 98,
   "metadata": {},
   "outputs": [
    {
     "output_type": "stream",
     "name": "stdout",
     "text": [
      "나의 별명은 야호 입니다.\n"
     ]
    }
   ],
   "source": [
    "def say_nick(nick):\n",
    "    if nick==\"바보\":\n",
    "        return\n",
    "    print(\"나의 별명은 %s 입니다.\" % nick) \n",
    "\n",
    "say_nick(\"야호\")\n",
    "\n",
    "#결과값은 무조건 return에 의해 반환된다.\n"
   ]
  },
  {
   "cell_type": "code",
   "execution_count": null,
   "metadata": {},
   "outputs": [],
   "source": []
  }
 ]
}