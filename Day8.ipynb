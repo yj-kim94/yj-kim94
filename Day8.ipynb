{
 "metadata": {
  "language_info": {
   "codemirror_mode": {
    "name": "ipython",
    "version": 3
   },
   "file_extension": ".py",
   "mimetype": "text/x-python",
   "name": "python",
   "nbconvert_exporter": "python",
   "pygments_lexer": "ipython3",
   "version": "3.9.5"
  },
  "orig_nbformat": 2,
  "kernelspec": {
   "name": "python395jvsc74a57bd0fcf1d46d271c46101d6967829d4a5f475342a2ce08e4944f989fbcdc9bb23690",
   "display_name": "Python 3.9.5 64-bit"
  },
  "metadata": {
   "interpreter": {
    "hash": "fcf1d46d271c46101d6967829d4a5f475342a2ce08e4944f989fbcdc9bb23690"
   }
  }
 },
 "nbformat": 4,
 "nbformat_minor": 2,
 "cells": [
  {
   "cell_type": "code",
   "execution_count": 1,
   "metadata": {},
   "outputs": [],
   "source": [
    "#다음 코드의 결괏값은 무엇일까?\n",
    "a=\"Life is too short, you need python\"\n",
    "if \"wife\" in a: print(\"wife\")\n",
    "elif \"python\" in a and \"you\" not in a: print(\"python\")\n",
    "elif \"shirt\" not in a: print(\"shirt\")\n",
    "elif \"need\" in a: print(\"need\")\n",
    "else: print(\"none\")\n",
    "\n",
    "#정답 : shirt need로 예상했는데 정답은 shirt if 문으로 작성 시 가장 먼저 참인 것이 출력된다."
   ]
  },
  {
   "cell_type": "code",
   "execution_count": 7,
   "metadata": {},
   "outputs": [
    {
     "output_type": "stream",
     "name": "stdout",
     "text": [
      "166833\n"
     ]
    }
   ],
   "source": [
    "#while문을 사용해 1부터 1000까지의 자연수 중 3의 배수의 합을 구해보자.\n",
    "number=0\n",
    "total=0\n",
    "while True : \n",
    "    number=number+1\n",
    "    if number % 3 == 0 :\n",
    "        total+=number\n",
    "    if number > 1000 :\n",
    "        break\n",
    "print(total)\n",
    "\n",
    "#정답 166833, 코드는 다르지만 정답"
   ]
  },
  {
   "cell_type": "code",
   "execution_count": 10,
   "metadata": {},
   "outputs": [
    {
     "output_type": "stream",
     "name": "stdout",
     "text": [
      "*\n**\n***\n****\n*****\n*\n**\n***\n****\n*****\n"
     ]
    }
   ],
   "source": [
    "'''\n",
    "while 문을 사용하여 다음과 같이 별(*)을 표시하는 프로그램을 작성해 보자.\n",
    "*\n",
    "**\n",
    "***\n",
    "****\n",
    "*****\n",
    "'''\n",
    "#다섯번 반복 length가 1씩 늘어남\n",
    "\n",
    "i=1 \n",
    "while i <=5 : \n",
    "    print(\"*\"*i)\n",
    "    i+=1\n",
    "#코드는 다르지만 정답\n",
    "#밑은 Ref. 코드\n",
    "i = 0\n",
    "while True:\n",
    "    i += 1 # while문 수행 시 1씩 증가\n",
    "    if i > 5: break     # i 값이 5보다 크면 while문을 벗어난다.\n",
    "    print ('*' * i)     # i 값 개수만큼 *를 출력한다."
   ]
  },
  {
   "cell_type": "code",
   "execution_count": 12,
   "metadata": {},
   "outputs": [
    {
     "output_type": "stream",
     "name": "stdout",
     "text": [
      "1\n2\n3\n4\n5\n6\n7\n8\n9\n10\n11\n12\n13\n14\n15\n16\n17\n18\n19\n20\n21\n22\n23\n24\n25\n26\n27\n28\n29\n30\n31\n32\n33\n34\n35\n36\n37\n38\n39\n40\n41\n42\n43\n44\n45\n46\n47\n48\n49\n50\n51\n52\n53\n54\n55\n56\n57\n58\n59\n60\n61\n62\n63\n64\n65\n66\n67\n68\n69\n70\n71\n72\n73\n74\n75\n76\n77\n78\n79\n80\n81\n82\n83\n84\n85\n86\n87\n88\n89\n90\n91\n92\n93\n94\n95\n96\n97\n98\n99\n100\n"
     ]
    }
   ],
   "source": [
    "#for문을 사용해 1부터 100까지의 숫자를 출력해보자\n",
    "for i in range(1,101):\n",
    "    print(i)\n",
    "\n",
    "#정답"
   ]
  },
  {
   "cell_type": "code",
   "execution_count": 18,
   "metadata": {},
   "outputs": [
    {
     "output_type": "stream",
     "name": "stdout",
     "text": [
      "79.0\n"
     ]
    }
   ],
   "source": [
    "'''\n",
    "A 학급에 총 10명의 학생이 있다. 이 학생들의 중간고사 점수는 다음과 같다.\n",
    "[70, 60, 55, 75, 95, 90, 80, 80, 85, 100]\n",
    "for문을 사용하여 A 학급의 평균 점수를 구해 보자.\n",
    "'''\n",
    "score=[70, 60, 55, 75, 95, 90, 80, 80, 85, 100]\n",
    "number=len(score)\n",
    "total=0\n",
    "for i in score:\n",
    "   total=total+i\n",
    "\n",
    "result= total/number\n",
    "print(result)\n",
    "#코드는 다르지만 정답"
   ]
  },
  {
   "cell_type": "code",
   "execution_count": 20,
   "metadata": {},
   "outputs": [
    {
     "output_type": "stream",
     "name": "stdout",
     "text": [
      "[2, 6, 10]\n"
     ]
    }
   ],
   "source": [
    "#리스트 중에서 홀수에만 2를 곱하여 저장하는 다음 코드가 있다.\n",
    "'''\n",
    "numbers = [1, 2, 3, 4, 5]\n",
    "result = []\n",
    "for n in numbers:\n",
    "    if n % 2 == 1:\n",
    "        result.append(n*2)\n",
    "'''\n",
    "#위 코드를 리스트 내포(list comprehension)를 사용하여 표현해 보자.\n",
    "\n",
    "numbers=[1,2,3,4,5]\n",
    "result=[n*2 for n in numbers if n % 2 ==1]\n",
    "print(result)\n",
    "\n",
    "#정답"
   ]
  }
 ]
}