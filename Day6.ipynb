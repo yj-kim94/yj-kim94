{
 "metadata": {
  "language_info": {
   "codemirror_mode": {
    "name": "ipython",
    "version": 3
   },
   "file_extension": ".py",
   "mimetype": "text/x-python",
   "name": "python",
   "nbconvert_exporter": "python",
   "pygments_lexer": "ipython3",
   "version": "3.9.1"
  },
  "orig_nbformat": 2,
  "kernelspec": {
   "name": "python391jvsc74a57bd0ee5cc6fef2d70a7e71ee3826687cbd150f18158e0b1eef11d4f4f92bb920e304",
   "display_name": "Python 3.9.1 64-bit"
  },
  "metadata": {
   "interpreter": {
    "hash": "ee5cc6fef2d70a7e71ee3826687cbd150f18158e0b1eef11d4f4f92bb920e304"
   }
  }
 },
 "nbformat": 4,
 "nbformat_minor": 2,
 "cells": [
  {
   "cell_type": "code",
   "execution_count": 9,
   "metadata": {},
   "outputs": [
    {
     "output_type": "stream",
     "name": "stdout",
     "text": [
      "나무가 1번 찍혔습니다.\n나무가 2번 찍혔습니다.\n나무가 3번 찍혔습니다.\n나무가 4번 찍혔습니다.\n나무가 5번 찍혔습니다.\n나무가 6번 찍혔습니다.\n나무가 7번 찍혔습니다.\n나무가 8번 찍혔습니다.\n나무가 9번 찍혔습니다.\n나무가 10번 찍혔습니다.\n"
     ]
    }
   ],
   "source": [
    "'''\n",
    "while 문\n",
    "'''\n",
    "\n",
    "treeHit = 0\n",
    "\n",
    "while treeHit < 10 :\n",
    "    treeHit += 1\n",
    "    print(\"나무가 %d번 찍혔습니다.\" % treeHit)\n",
    "    if treeHit ==0:\n",
    "        print(\"나무가 넘어갔습니다\")"
   ]
  },
  {
   "cell_type": "code",
   "execution_count": 12,
   "metadata": {},
   "outputs": [
    {
     "output_type": "stream",
     "name": "stdout",
     "text": [
      "\n1. Add\n2. Del\n3. List\n4. Quit\n\n"
     ]
    }
   ],
   "source": [
    "number = 0\n",
    "prompt='''\n",
    "1. Add\n",
    "2. Del\n",
    "3. List\n",
    "4. Quit\n",
    "'''\n",
    "\n",
    "while number !=4:\n",
    "    print(prompt)\n",
    "    number=int(input())"
   ]
  },
  {
   "cell_type": "code",
   "execution_count": 15,
   "metadata": {},
   "outputs": [
    {
     "output_type": "stream",
     "name": "stdout",
     "text": [
      "돈을 받았으니 커피를 줍니다.\n남은 커피의 양은 9개입니다.\n돈을 받았으니 커피를 줍니다.\n남은 커피의 양은 8개입니다.\n돈을 받았으니 커피를 줍니다.\n남은 커피의 양은 7개입니다.\n돈을 받았으니 커피를 줍니다.\n남은 커피의 양은 6개입니다.\n돈을 받았으니 커피를 줍니다.\n남은 커피의 양은 5개입니다.\n돈을 받았으니 커피를 줍니다.\n남은 커피의 양은 4개입니다.\n돈을 받았으니 커피를 줍니다.\n남은 커피의 양은 3개입니다.\n돈을 받았으니 커피를 줍니다.\n남은 커피의 양은 2개입니다.\n돈을 받았으니 커피를 줍니다.\n남은 커피의 양은 1개입니다.\n돈을 받았으니 커피를 줍니다.\n남은 커피의 양은 0개입니다.\n커피가 다 떨어졌습니다. 판매를 중지합니다.\n"
     ]
    }
   ],
   "source": [
    "coffee=10\n",
    "money=300\n",
    "while money : \n",
    "    print(\"돈을 받았으니 커피를 줍니다.\")\n",
    "    coffee = coffee -1\n",
    "    print(\"남은 커피의 양은 %d개입니다.\"% coffee)\n",
    "    if coffee==0:\n",
    "        print(\"커피가 다 떨어졌습니다. 판매를 중지합니다.\")\n",
    "        break\n",
    "\n"
   ]
  },
  {
   "cell_type": "code",
   "execution_count": 2,
   "metadata": {},
   "outputs": [
    {
     "output_type": "stream",
     "name": "stdout",
     "text": [
      "1\n3\n5\n7\n9\n"
     ]
    }
   ],
   "source": [
    "a=0\n",
    "while a<10:\n",
    "    a=a+1\n",
    "    if a % 2 ==0 : continue\n",
    "    print(a)"
   ]
  },
  {
   "cell_type": "code",
   "execution_count": null,
   "metadata": {},
   "outputs": [],
   "source": [
    "#무한루프\n",
    "limit=0\n",
    "while True :\n",
    "    print(\"ctrl+C를 눌러야 whole문을 빠져나갈 수 있습니다.\")\n",
    "    limit+=1\n",
    "    if limit ==1000:\n",
    "        break"
   ]
  },
  {
   "cell_type": "code",
   "execution_count": null,
   "metadata": {},
   "outputs": [],
   "source": []
  }
 ]
}