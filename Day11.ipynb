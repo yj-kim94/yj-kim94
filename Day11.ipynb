{
 "metadata": {
  "language_info": {
   "codemirror_mode": {
    "name": "ipython",
    "version": 3
   },
   "file_extension": ".py",
   "mimetype": "text/x-python",
   "name": "python",
   "nbconvert_exporter": "python",
   "pygments_lexer": "ipython3",
   "version": "3.9.1"
  },
  "orig_nbformat": 2,
  "kernelspec": {
   "name": "python391jvsc74a57bd0ee5cc6fef2d70a7e71ee3826687cbd150f18158e0b1eef11d4f4f92bb920e304",
   "display_name": "Python 3.9.1 64-bit"
  },
  "metadata": {
   "interpreter": {
    "hash": "ee5cc6fef2d70a7e71ee3826687cbd150f18158e0b1eef11d4f4f92bb920e304"
   }
  }
 },
 "nbformat": 4,
 "nbformat_minor": 2,
 "cells": [
  {
   "cell_type": "code",
   "execution_count": 6,
   "metadata": {},
   "outputs": [],
   "source": [
    "# writedata.py\n",
    "f = open(\"new_file.txt\", 'w')\n",
    "for i in range(1, 11):\n",
    "    data = \"%d line.\\n\" % i\n",
    "    f.write(data)\n",
    "f.close()"
   ]
  },
  {
   "cell_type": "code",
   "execution_count": 8,
   "metadata": {},
   "outputs": [],
   "source": [
    "with open(\"new_file2.txt\",\"w\") as f:\n",
    "    f.write(\"Life is too short, you need python\")"
   ]
  },
  {
   "cell_type": "code",
   "execution_count": 16,
   "metadata": {},
   "outputs": [
    {
     "output_type": "stream",
     "name": "stdout",
     "text": [
      "1 line.\n2 line.\n3 line.\n4 line.\n5 line.\n6 line.\n7 line.\n8 line.\n9 line.\n10 line.\n"
     ]
    }
   ],
   "source": [
    "f = open(\"new_file.txt\",\"r\")\n",
    "lines=f.readlines()\n",
    "for i in lines:\n",
    "    print(i,end=\"\")\n",
    "f.close()"
   ]
  }
 ]
}