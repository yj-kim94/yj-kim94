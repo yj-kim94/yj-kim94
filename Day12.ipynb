{
 "metadata": {
  "language_info": {
   "codemirror_mode": {
    "name": "ipython",
    "version": 3
   },
   "file_extension": ".py",
   "mimetype": "text/x-python",
   "name": "python",
   "nbconvert_exporter": "python",
   "pygments_lexer": "ipython3",
   "version": "3.9.1"
  },
  "orig_nbformat": 2,
  "kernelspec": {
   "name": "python391jvsc74a57bd0ee5cc6fef2d70a7e71ee3826687cbd150f18158e0b1eef11d4f4f92bb920e304",
   "display_name": "Python 3.9.1 64-bit"
  },
  "metadata": {
   "interpreter": {
    "hash": "ee5cc6fef2d70a7e71ee3826687cbd150f18158e0b1eef11d4f4f92bb920e304"
   }
  }
 },
 "nbformat": 4,
 "nbformat_minor": 2,
 "cells": [
  {
   "cell_type": "code",
   "execution_count": 9,
   "metadata": {},
   "outputs": [],
   "source": [
    "'''\n",
    "Class 만들기\n",
    "덧셈, 뺄셈, 곱셈, 나눗셈을 수행하는 클래스 만들기\n",
    "'''\n",
    "\n",
    "class FourCal :\n",
    "    def setdata(self,first,second):\n",
    "        self.first=first\n",
    "        self.second=second\n",
    "\n",
    "    def add(self):\n",
    "        self.result=self.first+self.second\n",
    "        return self.result\n",
    "    def sub(self):\n",
    "        self.result=self.first-self.second\n",
    "        return self.result\n",
    "    def mul(self):\n",
    "        self.result=self.first*self.second\n",
    "        return self.result\n",
    "    def div(self):\n",
    "        self.result=self.first/self.second\n",
    "        return self.result"
   ]
  },
  {
   "cell_type": "code",
   "execution_count": 10,
   "metadata": {},
   "outputs": [
    {
     "output_type": "execute_result",
     "data": {
      "text/plain": [
       "6"
      ]
     },
     "metadata": {},
     "execution_count": 10
    }
   ],
   "source": [
    "b=FourCal()\n",
    "b.setdata(2,3)\n",
    "b.add()\n",
    "b.mul()"
   ]
  },
  {
   "cell_type": "code",
   "execution_count": 11,
   "metadata": {},
   "outputs": [],
   "source": [
    "'''\n",
    "생성자를 사용해 초기 변수를 설정해줄 수 있디.\n",
    "'''\n",
    "class FourCal :\n",
    "    def __init__(self,first,second):\n",
    "        self.first=first\n",
    "        self.second=second\n",
    "    def add(self):\n",
    "        self.result=self.first+self.second\n",
    "        return self.result\n",
    "    def sub(self):\n",
    "        self.result=self.first-self.second\n",
    "        return self.result\n",
    "    def mul(self):\n",
    "        self.result=self.first*self.second\n",
    "        return self.result\n",
    "    def div(self):\n",
    "        self.result=self.first/self.second\n",
    "        return self.result"
   ]
  },
  {
   "cell_type": "code",
   "execution_count": 12,
   "metadata": {},
   "outputs": [],
   "source": [
    "'''\n",
    "Class는 상속이 가능하다.\n",
    "기존 클래스는 그대로 놔둔 채, 클래스의 기능을 확장시킬 때 주로 사용한다.\n",
    "'''\n",
    "\n",
    "class MoreFourCal(FourCal):\n",
    "    def pow(self):\n",
    "        self.result=self.first ** self.second\n",
    "        return self.result\n"
   ]
  },
  {
   "cell_type": "code",
   "execution_count": 13,
   "metadata": {},
   "outputs": [
    {
     "output_type": "execute_result",
     "data": {
      "text/plain": [
       "16"
      ]
     },
     "metadata": {},
     "execution_count": 13
    }
   ],
   "source": [
    "a=MoreFourCal(4,2)\n",
    "a.pow()"
   ]
  },
  {
   "cell_type": "code",
   "execution_count": 14,
   "metadata": {},
   "outputs": [],
   "source": [
    "'''\n",
    "Method overwriting\n",
    "기존 Class에 있는 함수를 수정해서 사용하고 싶을 때 사용한다.\n",
    "'''\n",
    "class SafeFourCal(FourCal):\n",
    "    def div(self):\n",
    "        if self.second==0:\n",
    "            return 0\n",
    "        else :\n",
    "            self.result = self.first / self.second\n",
    "            return self.result"
   ]
  },
  {
   "cell_type": "code",
   "execution_count": 18,
   "metadata": {},
   "outputs": [
    {
     "output_type": "execute_result",
     "data": {
      "text/plain": [
       "0"
      ]
     },
     "metadata": {},
     "execution_count": 18
    }
   ],
   "source": [
    "a=SafeFourCal(4,0)\n",
    "a.div()"
   ]
  }
 ]
}