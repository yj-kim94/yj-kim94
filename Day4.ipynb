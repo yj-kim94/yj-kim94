{
 "metadata": {
  "language_info": {
   "codemirror_mode": {
    "name": "ipython",
    "version": 3
   },
   "file_extension": ".py",
   "mimetype": "text/x-python",
   "name": "python",
   "nbconvert_exporter": "python",
   "pygments_lexer": "ipython3",
   "version": "3.9.1"
  },
  "orig_nbformat": 2,
  "kernelspec": {
   "name": "python391jvsc74a57bd0ee5cc6fef2d70a7e71ee3826687cbd150f18158e0b1eef11d4f4f92bb920e304",
   "display_name": "Python 3.9.1 64-bit"
  },
  "metadata": {
   "interpreter": {
    "hash": "ee5cc6fef2d70a7e71ee3826687cbd150f18158e0b1eef11d4f4f92bb920e304"
   }
  }
 },
 "nbformat": 4,
 "nbformat_minor": 2,
 "cells": [
  {
   "cell_type": "code",
   "execution_count": 3,
   "metadata": {},
   "outputs": [
    {
     "output_type": "stream",
     "name": "stdout",
     "text": [
      "{1, 2, 3}\n"
     ]
    }
   ],
   "source": [
    "#집합 자료형\n",
    "s1=set([1,2,3])\n",
    "print(s1)"
   ]
  },
  {
   "cell_type": "code",
   "execution_count": 11,
   "metadata": {},
   "outputs": [
    {
     "output_type": "stream",
     "name": "stdout",
     "text": [
      "[1, 2, 3]\n[{1, 2, 3}]\n"
     ]
    },
    {
     "output_type": "execute_result",
     "data": {
      "text/plain": [
       "False"
      ]
     },
     "metadata": {},
     "execution_count": 11
    }
   ],
   "source": [
    "l1=list(s1)\n",
    "print(l1)\n",
    "l2=[s1]\n",
    "print(l2)\n",
    "l1==l2\n"
   ]
  },
  {
   "cell_type": "code",
   "execution_count": 24,
   "metadata": {},
   "outputs": [
    {
     "output_type": "stream",
     "name": "stdout",
     "text": [
      "{4, 5, 6}\n{4, 5, 6}\n{4, 5, 6, 7, 8, 9}\n"
     ]
    }
   ],
   "source": [
    "s1=set([1,2,3,4,5,6])\n",
    "s2=set([4,5,6,7,8,9])\n",
    "s3=set([1,3,5,7,\"Set\"])\n",
    "s4=set([\"Test\"])\n",
    " #교집합 구하기\n",
    "s1&s2\n",
    "print(s1.intersection(s2))\n",
    "print(s2.intersection(s1))\n",
    "print(s2.intersection(s2))"
   ]
  },
  {
   "cell_type": "code",
   "execution_count": 29,
   "metadata": {},
   "outputs": [
    {
     "output_type": "stream",
     "name": "stdout",
     "text": [
      "{1, 2, 3, 4, 5, 6, 7, 8, 9}\n{1, 2, 3, 4, 5, 6, 7, 8, 9}\n"
     ]
    }
   ],
   "source": [
    "#합집합\n",
    "print(s1|s2)\n",
    "print(s1.union(s2))"
   ]
  },
  {
   "cell_type": "code",
   "execution_count": 32,
   "metadata": {},
   "outputs": [
    {
     "output_type": "stream",
     "name": "stdout",
     "text": [
      "{1, 2, 3}\n{8, 9, 7}\n"
     ]
    }
   ],
   "source": [
    "#차집합\n",
    "print(s1-s2)\n",
    "print(s2-s1)"
   ]
  },
  {
   "cell_type": "code",
   "execution_count": 37,
   "metadata": {},
   "outputs": [
    {
     "output_type": "stream",
     "name": "stdout",
     "text": [
      "{1, 2, 3}\n{1, 2, 3, 4}\n"
     ]
    }
   ],
   "source": [
    "s1=set([1,2,3])\n",
    "print(s1)\n",
    "s1.add(4)\n",
    "print(s1)"
   ]
  },
  {
   "cell_type": "code",
   "execution_count": 47,
   "metadata": {},
   "outputs": [
    {
     "output_type": "stream",
     "name": "stdout",
     "text": [
      "{1, 2, 3, 4, 5, 6}\n{1, 3, 4, 5, 6}\n{1, 3, 5, 6}\n"
     ]
    }
   ],
   "source": [
    "#값 여러 개 추가하기\n",
    "s1=set([1,2,3])\n",
    "s1.update([4,5,6])\n",
    "print(s1)\n",
    "#특정 값 제거하기\n",
    "s1.remove(2)\n",
    "print(s1)\n",
    "s1.remove(4)\n",
    "print(s1)"
   ]
  },
  {
   "cell_type": "code",
   "execution_count": 55,
   "metadata": {},
   "outputs": [
    {
     "output_type": "stream",
     "name": "stdout",
     "text": [
      "[1, 2, 3, 4, 5]\n"
     ]
    }
   ],
   "source": [
    "#a 리스트에서 중복 숫자를 제거해 보자.\n",
    "#※ 집합 자료형의 요솟값이 중복될 수 없다는 특징을 사용해 보자.\n",
    "a = [1, 1, 1, 2, 2, 3, 3, 3, 4, 4, 5]\n",
    "a=list(set(a))\n",
    "print(a)\n",
    "\n"
   ]
  },
  {
   "cell_type": "code",
   "execution_count": 62,
   "metadata": {},
   "outputs": [
    {
     "output_type": "stream",
     "name": "stdout",
     "text": [
      "2\n[1, 4, 3]\n"
     ]
    }
   ],
   "source": [
    "'''파이썬은 다음처럼 동일한 값에 여러 개의 변수를 선언할 수 있다. 다음과 같이 a, b 변수를 선언한 후 a의 두 번째 요솟값을 변경하면 b 값은 어떻게 될까? 그리고 이런 결과가 오는 이유에 대해 설명해 보자.'''\n",
    "#예상 : b 값도 변경됨 , 같은 데이터값을 가지고 있기 때문에\n",
    "a=b=[1,2,3]\n",
    "print(a[1])\n",
    "a[1]=4\n",
    "print(b)"
   ]
  }
 ]
}